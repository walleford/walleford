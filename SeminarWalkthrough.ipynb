{
  "nbformat": 4,
  "nbformat_minor": 0,
  "metadata": {
    "colab": {
      "provenance": [],
      "authorship_tag": "ABX9TyMhCEBAie2Ym/3FnUg5sMq7",
      "include_colab_link": true
    },
    "kernelspec": {
      "name": "python3",
      "display_name": "Python 3"
    },
    "language_info": {
      "name": "python"
    }
  },
  "cells": [
    {
      "cell_type": "markdown",
      "metadata": {
        "id": "view-in-github",
        "colab_type": "text"
      },
      "source": [
        "<a href=\"https://colab.research.google.com/github/walleford/walleford/blob/main/SeminarWalkthrough.ipynb\" target=\"_parent\"><img src=\"https://colab.research.google.com/assets/colab-badge.svg\" alt=\"Open In Colab\"/></a>"
      ]
    },
    {
      "cell_type": "markdown",
      "source": [
        "# TensorFlow Demo\n",
        "In this workbook we will go over an introduction of TensorFlow and how you can quickly import and implement the tool in your Python environment.\n",
        "\n",
        "## Setup\n",
        "If not already installed, you will need to pip install TensorFlow:"
      ],
      "metadata": {
        "id": "1VT47Q6kPP7S"
      }
    },
    {
      "cell_type": "code",
      "source": [
        "pip install tensorflow"
      ],
      "metadata": {
        "id": "jRnTel5bPil5"
      },
      "execution_count": null,
      "outputs": []
    },
    {
      "cell_type": "markdown",
      "source": [
        "Once this is completed (or if the requirement is already satisfied), then you will need to import tensorflow into your Python script/environment."
      ],
      "metadata": {
        "id": "e8DdeV43PnXK"
      }
    },
    {
      "cell_type": "code",
      "source": [
        "import tensorflow as tf # import it as tf so you don't have to call it with the full name every time"
      ],
      "metadata": {
        "id": "Jz1euC3YPkS7"
      },
      "execution_count": 2,
      "outputs": []
    },
    {
      "cell_type": "markdown",
      "source": [
        "## Introduction to Tensors\n",
        "Tensors are multi-dimensional arrays with a uniform type (dtype). There are many types of tensors:\n",
        "* float32, int32, string, etc...\n",
        "\n",
        "Tensors are very similar to numpy arrays (np.arrays). They are the objects passed around and manipulated when creating and training models using TensorFlow."
      ],
      "metadata": {
        "id": "0DFaUF9MQCDe"
      }
    },
    {
      "cell_type": "code",
      "source": [
        "string = tf.Variable(\"this is a string\", tf.string) # along with declaring the variable, you have to declare the type\n",
        "number = tf.Variable(42, tf.int16) # integer"
      ],
      "metadata": {
        "id": "fCZF3_4nP0WR"
      },
      "execution_count": 3,
      "outputs": []
    },
    {
      "cell_type": "markdown",
      "source": [
        "Tensors have what is known as a rank: the number of dimensions of the tensor."
      ],
      "metadata": {
        "id": "EXNFy_oTQz8X"
      }
    },
    {
      "cell_type": "code",
      "source": [
        "one_dimension_tensor = tf.Variable([\"one dimension\"], tf.string)\n",
        "print(tf.rank(one_dimension_tensor))\n",
        "two_dimension_tensor = tf.Variable([[\"one dimension\", \"one dimension\"], [\"two dimensions\", \"two dimensions\"]], tf.string)\n",
        "print(tf.rank(two_dimension_tensor))"
      ],
      "metadata": {
        "colab": {
          "base_uri": "https://localhost:8080/"
        },
        "id": "7IhyArtQQx_m",
        "outputId": "ea82c8f0-6016-40c4-f6e7-f7d9700cd55f"
      },
      "execution_count": 6,
      "outputs": [
        {
          "output_type": "stream",
          "name": "stdout",
          "text": [
            "tf.Tensor(1, shape=(), dtype=int32)\n",
            "tf.Tensor(2, shape=(), dtype=int32)\n"
          ]
        }
      ]
    },
    {
      "cell_type": "markdown",
      "source": [
        "# Keras for Machine Learning\n",
        "Keras is the high level api utilized with TensorFlow in order to solve ML problems with a focus on modern deep learning. Keras covers every step from preprocessing to deployment.\n",
        "\n",
        "## Creating Your First Machine Learning Model\n",
        "To build the machine learning model with Keras we will use the MNIST dataset that contains a 28x28 pixel image with each pixel containing a value from 0 to 255 representing the gray-scale of the pixel. These images contain handwritten numbers and our model will classify the numbers."
      ],
      "metadata": {
        "id": "Z3VH6PACRlVs"
      }
    },
    {
      "cell_type": "code",
      "source": [
        "mnist = tf.keras.datasets.mnist\n",
        "# next we will load the training/testing data with a built in function\n",
        "# x here stands for the images while y stands for the labels.\n",
        "(x_train, y_train), (x_test, y_test) = mnist.load_data()\n",
        "\n",
        "# To scale our data into the range of [0,1] we will divide everything by 255\n",
        "x_train, x_test = x_train / 255.0, x_test / 255.0"
      ],
      "metadata": {
        "colab": {
          "base_uri": "https://localhost:8080/"
        },
        "id": "S5cnOt2ORPQl",
        "outputId": "6e72bcb3-fc70-4618-ce4a-c5d155165d82"
      },
      "execution_count": 7,
      "outputs": [
        {
          "output_type": "stream",
          "name": "stdout",
          "text": [
            "Downloading data from https://storage.googleapis.com/tensorflow/tf-keras-datasets/mnist.npz\n",
            "11490434/11490434 [==============================] - 0s 0us/step\n"
          ]
        }
      ]
    },
    {
      "cell_type": "markdown",
      "source": [
        "Once these are loaded, we can visualize one image to make sure we have the correct data:"
      ],
      "metadata": {
        "id": "GNQMqNjWT1r9"
      }
    },
    {
      "cell_type": "code",
      "source": [
        "import numpy as np\n",
        "import matplotlib.pyplot as plt\n",
        "\n",
        "plt.figure()\n",
        "plt.imshow(x_train[2])\n",
        "plt.colorbar()\n",
        "plt.show()\n",
        "print(f\"The label for this image is: {y_train[2]}\")"
      ],
      "metadata": {
        "colab": {
          "base_uri": "https://localhost:8080/",
          "height": 453
        },
        "id": "KErPFslVT8UQ",
        "outputId": "ac9f6fc4-171c-4fe6-cced-d526e0ae6215"
      },
      "execution_count": 11,
      "outputs": [
        {
          "output_type": "display_data",
          "data": {
            "text/plain": [
              "<Figure size 640x480 with 2 Axes>"
            ],
            "image/png": "[encoded data removed]"
          },
          "metadata": {}
        },
        {
          "output_type": "stream",
          "name": "stdout",
          "text": [
            "The label for this image is: 4\n"
          ]
        }
      ]
    },
    {
      "cell_type": "markdown",
      "source": [
        "Now we will declare/build our keras model utilizing a sequential model. A sequential model is a type of feed-forward neural network. Our first layer will take the two-dimensional input of a 28x28 array into a single dimension vector of 784 input neurons for the network. The second layer is a dense layer (every neuron from the previous layer connects directly to every neuron from the last layer) and has 128 neurons. The third layer is a dense layer as well and has 10 output neurons."
      ],
      "metadata": {
        "id": "uYBpF5zcUjm0"
      }
    },
    {
      "cell_type": "code",
      "source": [
        "model = tf.keras.Sequential()\n",
        "\n",
        "model.add(tf.keras.layers.Flatten(input_shape=(28,28)))\n",
        "model.add(tf.keras.layers.Dense(128, activation='relu'))\n",
        "model.add(tf.keras.layers.Dense(10))"
      ],
      "metadata": {
        "id": "QMFPeowoUHkk"
      },
      "execution_count": 12,
      "outputs": []
    },
    {
      "cell_type": "markdown",
      "source": [
        "Now that the model is built, we must compile the model with a specified optimizer, loss function, and metric to be evaluated. The loss function we will use is the SparseCategoricalCrossentropy function. This function computes the crossentropy loss between labels and predictions and is used when there are more than 2 label classes to predict."
      ],
      "metadata": {
        "id": "o-vx2v1cWA5X"
      }
    },
    {
      "cell_type": "code",
      "source": [
        "model.compile(\n",
        "    optimizer='adam',\n",
        "    loss=tf.keras.losses.SparseCategoricalCrossentropy(from_logits=True),\n",
        "    metrics=['accuracy']\n",
        ")"
      ],
      "metadata": {
        "id": "MTWQjBBkVj3y"
      },
      "execution_count": 13,
      "outputs": []
    },
    {
      "cell_type": "markdown",
      "source": [
        "Finally, we fit our model with our training data and labels to see its accuracy rate."
      ],
      "metadata": {
        "id": "4kIkKO1rXWMA"
      }
    },
    {
      "cell_type": "code",
      "source": [
        "model.fit(\n",
        "    x_train, y_train,\n",
        "    epochs=5\n",
        ")"
      ],
      "metadata": {
        "colab": {
          "base_uri": "https://localhost:8080/"
        },
        "id": "-bD89x_rXco_",
        "outputId": "e7dee82c-10c3-4b4a-89ee-1ac8114e1375"
      },
      "execution_count": 14,
      "outputs": [
        {
          "output_type": "stream",
          "name": "stdout",
          "text": [
            "Epoch 1/5\n",
            "1875/1875 [==============================] - 4s 2ms/step - loss: 0.2558 - accuracy: 0.9266\n",
            "Epoch 2/5\n",
            "1875/1875 [==============================] - 4s 2ms/step - loss: 0.1124 - accuracy: 0.9671\n",
            "Epoch 3/5\n",
            "1875/1875 [==============================] - 4s 2ms/step - loss: 0.0774 - accuracy: 0.9768\n",
            "Epoch 4/5\n",
            "1875/1875 [==============================] - 4s 2ms/step - loss: 0.0573 - accuracy: 0.9824\n",
            "Epoch 5/5\n",
            "1875/1875 [==============================] - 7s 4ms/step - loss: 0.0456 - accuracy: 0.9859\n"
          ]
        },
        {
          "output_type": "execute_result",
          "data": {
            "text/plain": [
              "<keras.src.callbacks.History at 0x7f0395162200>"
            ]
          },
          "metadata": {},
          "execution_count": 14
        }
      ]
    },
    {
      "cell_type": "markdown",
      "source": [
        "Once the model is fitted we can run the tests throught the model to evaluate its actual accuracy."
      ],
      "metadata": {
        "id": "EUNRHhTIXo-3"
      }
    },
    {
      "cell_type": "code",
      "source": [
        "model.evaluate(x_test, y_test, verbose=2)"
      ],
      "metadata": {
        "colab": {
          "base_uri": "https://localhost:8080/"
        },
        "id": "ccBoJvYGXVMv",
        "outputId": "fbddb057-d6af-4fc9-8c55-2c6fb4b363cb"
      },
      "execution_count": 15,
      "outputs": [
        {
          "output_type": "stream",
          "name": "stdout",
          "text": [
            "313/313 - 1s - loss: 0.0734 - accuracy: 0.9769 - 601ms/epoch - 2ms/step\n"
          ]
        },
        {
          "output_type": "execute_result",
          "data": {
            "text/plain": [
              "[0.07341305911540985, 0.9768999814987183]"
            ]
          },
          "metadata": {},
          "execution_count": 15
        }
      ]
    },
    {
      "cell_type": "markdown",
      "source": [
        "You can see the accuracy for this model is 97.69% accurate."
      ],
      "metadata": {
        "id": "oGIipTO-XvZf"
      }
    },
    {
      "cell_type": "markdown",
      "source": [
        "## Conclusion\n",
        "In this demo we utilized TensorFlow and the keras API to build a feed-forward neural network to perform classification tasks on a dataset containing handwritten numbers."
      ],
      "metadata": {
        "id": "t8p78iVRX18V"
      }
    },
    {
      "cell_type": "markdown",
      "source": [
        "References:\n",
        "\n",
        "https://www.tensorflow.org/tutorials/quickstart/beginner\n",
        "\n",
        "https://www.tensorflow.org/api_docs/python/tf/keras/optimizers/Adam\n",
        "\n",
        "https://developers.google.com/machine-learning/glossary"
      ],
      "metadata": {
        "id": "pgyfpVXfYRoJ"
      }
    }
  ]
}